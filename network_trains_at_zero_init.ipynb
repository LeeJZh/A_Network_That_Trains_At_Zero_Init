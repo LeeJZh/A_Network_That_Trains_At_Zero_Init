{
  "nbformat": 4,
  "nbformat_minor": 0,
  "metadata": {
    "orig_nbformat": 2,
    "kernelspec": {
      "name": "python3",
      "display_name": "Python 3"
    },
    "colab": {
      "name": "network_trains_at_zero_init.ipynb",
      "provenance": [],
      "include_colab_link": true
    },
    "accelerator": "GPU"
  },
  "cells": [
    {
      "cell_type": "markdown",
      "metadata": {
        "id": "view-in-github",
        "colab_type": "text"
      },
      "source": [
        "<a href=\"https://colab.research.google.com/github/LeeJZh/A_Network_That_Trains_At_Zero_Init/blob/master/network_trains_at_zero_init.ipynb\" target=\"_parent\"><img src=\"https://colab.research.google.com/assets/colab-badge.svg\" alt=\"Open In Colab\"/></a>"
      ]
    },
    {
      "cell_type": "code",
      "metadata": {
        "id": "JrhPQRJgic2x",
        "colab_type": "code",
        "colab": {}
      },
      "source": [
        "import torch\n",
        "from torch import nn\n",
        "from torchvision import datasets, transforms"
      ],
      "execution_count": 1,
      "outputs": []
    },
    {
      "cell_type": "code",
      "metadata": {
        "tags": [],
        "id": "F-DHZtitic20",
        "colab_type": "code",
        "colab": {}
      },
      "source": [
        "mnist_set = datasets.MNIST(root=\"./mnist_data\", train=True, transform=transforms.ToTensor(), download=True)\n",
        "mnist_test_set = datasets.MNIST(root=\"./mnist_data\", train=False, transform=transforms.ToTensor(), download=True)"
      ],
      "execution_count": 2,
      "outputs": []
    },
    {
      "cell_type": "code",
      "metadata": {
        "id": "bRog0H-5ic23",
        "colab_type": "code",
        "colab": {}
      },
      "source": [
        "mnist_loader = torch.utils.data.DataLoader(mnist_set, 36)\n",
        "mnist_test_loader = torch.utils.data.DataLoader(mnist_test_set, 36)"
      ],
      "execution_count": 3,
      "outputs": []
    },
    {
      "cell_type": "code",
      "metadata": {
        "tags": [],
        "id": "ctpZ9fbPic25",
        "colab_type": "code",
        "colab": {
          "base_uri": "https://localhost:8080/",
          "height": 442
        },
        "outputId": "9e836be3-c6c6-4ce0-ed2f-aa9278f2ef62"
      },
      "source": [
        "class Selection(nn.Module):\n",
        "    def __init__(self, in_channels):\n",
        "        super().__init__()\n",
        "        self.c_in = in_channels\n",
        "        self.counter = 0\n",
        "    \n",
        "    def forward(self, x):\n",
        "\n",
        "        if self.counter + 10 <= self.c_in:\n",
        "            out = x[:, self.counter: self.counter+10]\n",
        "            self.counter += 10\n",
        "        \n",
        "        else:\n",
        "            out = x[:, -10:]\n",
        "            self.counter = 0\n",
        "        \n",
        "        return out\n",
        "\n",
        "class MLP(nn.Module):\n",
        "    def __init__(self):\n",
        "        super().__init__()\n",
        "        c_in = 28 * 28\n",
        "        c_out= 512\n",
        "        linears = []\n",
        "        selectors = []\n",
        "        for _ in range(5):\n",
        "            linears += [nn.Linear(c_in, c_out)]\n",
        "            selectors += [Selection(c_out)]\n",
        "            c_in, cout = c_out, c_out // 2\n",
        "        \n",
        "        self.clf = nn.Linear(c_out, 10)\n",
        "        self.linears = nn.ModuleList(linears)\n",
        "        self.selectors = nn.ModuleList(selectors)\n",
        "        # self.clfs = nn.ModuleList(clfs)\n",
        "        self.act = nn.LeakyReLU(0.2)\n",
        "    \n",
        "    def forward(self, x):\n",
        "        features = [x]\n",
        "        outputs = []\n",
        "        for l, s in zip(self.linears, self.selectors):\n",
        "            feature = l(features[-1])\n",
        "            outputs += [s(feature)]\n",
        "            features += [self.act(feature)]\n",
        "        outputs += [self.clf(feature)]\n",
        "        return outputs\n",
        "\n",
        "net = MLP().cuda()\n",
        "for name, p in net.named_parameters():\n",
        "    print(name, p.size())\n",
        "    torch.nn.init.constant_(p, 0.0)\n",
        "    print(p.data.sum())\n",
        "criterion = torch.nn.CrossEntropyLoss()\n",
        "adam = torch.optim.Adam(net.parameters(), lr=3e-4)"
      ],
      "execution_count": 4,
      "outputs": [
        {
          "output_type": "stream",
          "text": [
            "clf.weight torch.Size([10, 512])\n",
            "tensor(0., device='cuda:0')\n",
            "clf.bias torch.Size([10])\n",
            "tensor(0., device='cuda:0')\n",
            "linears.0.weight torch.Size([512, 784])\n",
            "tensor(0., device='cuda:0')\n",
            "linears.0.bias torch.Size([512])\n",
            "tensor(0., device='cuda:0')\n",
            "linears.1.weight torch.Size([512, 512])\n",
            "tensor(0., device='cuda:0')\n",
            "linears.1.bias torch.Size([512])\n",
            "tensor(0., device='cuda:0')\n",
            "linears.2.weight torch.Size([512, 512])\n",
            "tensor(0., device='cuda:0')\n",
            "linears.2.bias torch.Size([512])\n",
            "tensor(0., device='cuda:0')\n",
            "linears.3.weight torch.Size([512, 512])\n",
            "tensor(0., device='cuda:0')\n",
            "linears.3.bias torch.Size([512])\n",
            "tensor(0., device='cuda:0')\n",
            "linears.4.weight torch.Size([512, 512])\n",
            "tensor(0., device='cuda:0')\n",
            "linears.4.bias torch.Size([512])\n",
            "tensor(0., device='cuda:0')\n"
          ],
          "name": "stdout"
        }
      ]
    },
    {
      "cell_type": "code",
      "metadata": {
        "tags": [],
        "id": "b7AdPlp7ic29",
        "colab_type": "code",
        "colab": {
          "base_uri": "https://localhost:8080/",
          "height": 548
        },
        "outputId": "3579f8b4-353f-45b1-d9a6-cc5f7d7b2e32"
      },
      "source": [
        "def train_one_epoch():\n",
        "    for x, y in mnist_loader:\n",
        "        x, y = x.cuda(), y.cuda()\n",
        "        adam.zero_grad()\n",
        "        x = torch.flatten(x, start_dim=1)\n",
        "        y_hat_list = net(x)\n",
        "        loss = 0.0\n",
        "        alpha = 0.1\n",
        "        for y_hat in y_hat_list[:-1]:\n",
        "            loss += criterion(y_hat, y) * alpha\n",
        "        \n",
        "        loss += criterion(y_hat_list[-1], y)\n",
        "    \n",
        "        loss.backward()\n",
        "        adam.step()\n",
        "    print(\"loss: {:.4f}\".format(loss.item()))\n",
        "\n",
        "for i in range(30):\n",
        "    # print(\"training epoch {}\".format(i))\n",
        "    train_one_epoch()\n",
        "\n"
      ],
      "execution_count": 5,
      "outputs": [
        {
          "output_type": "stream",
          "text": [
            "loss: 0.3279\n",
            "loss: 0.2293\n",
            "loss: 0.1672\n",
            "loss: 0.1580\n",
            "loss: 0.1275\n",
            "loss: 0.1695\n",
            "loss: 0.1167\n",
            "loss: 0.0977\n",
            "loss: 0.0810\n",
            "loss: 0.0973\n",
            "loss: 0.0779\n",
            "loss: 0.0915\n",
            "loss: 0.1180\n",
            "loss: 0.0866\n",
            "loss: 0.1281\n",
            "loss: 0.0878\n",
            "loss: 0.4143\n",
            "loss: 0.0718\n",
            "loss: 0.0800\n",
            "loss: 0.0707\n",
            "loss: 0.1012\n",
            "loss: 0.0523\n",
            "loss: 0.0526\n",
            "loss: 0.0519\n",
            "loss: 0.0503\n",
            "loss: 0.0589\n",
            "loss: 0.0481\n",
            "loss: 0.0481\n",
            "loss: 0.0661\n",
            "loss: 0.0580\n"
          ],
          "name": "stdout"
        }
      ]
    },
    {
      "cell_type": "code",
      "metadata": {
        "id": "eNRuC0J2ic2_",
        "colab_type": "code",
        "colab": {}
      },
      "source": [
        "def acc(logit, target):\n",
        "    predication = torch.argmax(logit, dim=1)\n",
        "    return (predication == target).to(torch.float)"
      ],
      "execution_count": 6,
      "outputs": []
    },
    {
      "cell_type": "code",
      "metadata": {
        "tags": [],
        "id": "9KjgPoVUic3B",
        "colab_type": "code",
        "colab": {
          "base_uri": "https://localhost:8080/",
          "height": 35
        },
        "outputId": "61743c75-779e-4b86-db18-f076d475969a"
      },
      "source": [
        "res = None\n",
        "# net.cpu()\n",
        "for x, y in mnist_test_loader:\n",
        "    x, y = x.cuda(), y.cuda()\n",
        "    net.eval()\n",
        "    with torch.no_grad():\n",
        "        x = torch.flatten(x, start_dim=1)\n",
        "        if res is None:\n",
        "            res = acc(net(x)[-1], y)\n",
        "        else:\n",
        "            res = torch.cat([res, acc(net(x)[-1], y)], dim=0)\n",
        "    \n",
        "print(res.mean().item())\n",
        "\n",
        "    "
      ],
      "execution_count": 7,
      "outputs": [
        {
          "output_type": "stream",
          "text": [
            "0.9728999733924866\n"
          ],
          "name": "stdout"
        }
      ]
    },
    {
      "cell_type": "code",
      "metadata": {
        "tags": [],
        "id": "2gFJ3VNaic3D",
        "colab_type": "code",
        "colab": {
          "base_uri": "https://localhost:8080/",
          "height": 230
        },
        "outputId": "a2f43af1-c3c3-46a8-bbac-a17577b12bdc"
      },
      "source": [
        "for name, p in net.named_parameters():\n",
        "    print(name, p.data.sum(), p.data.mean(), (p.data < 1e-4).to(torch.float).mean())"
      ],
      "execution_count": 8,
      "outputs": [
        {
          "output_type": "stream",
          "text": [
            "clf.weight tensor(-10.9191, device='cuda:0') tensor(-0.0021, device='cuda:0') tensor(0.7193, device='cuda:0')\n",
            "clf.bias tensor(-0.2071, device='cuda:0') tensor(-0.0207, device='cuda:0') tensor(0.5000, device='cuda:0')\n",
            "linears.0.weight tensor(-7966.9590, device='cuda:0') tensor(-0.0198, device='cuda:0') tensor(0.6098, device='cuda:0')\n",
            "linears.0.bias tensor(-2.9725, device='cuda:0') tensor(-0.0058, device='cuda:0') tensor(0.5352, device='cuda:0')\n",
            "linears.1.weight tensor(-920.2904, device='cuda:0') tensor(-0.0035, device='cuda:0') tensor(0.4960, device='cuda:0')\n",
            "linears.1.bias tensor(-23.1721, device='cuda:0') tensor(-0.0453, device='cuda:0') tensor(0.7402, device='cuda:0')\n",
            "linears.2.weight tensor(-3057.7368, device='cuda:0') tensor(-0.0117, device='cuda:0') tensor(0.5878, device='cuda:0')\n",
            "linears.2.bias tensor(-37.7117, device='cuda:0') tensor(-0.0737, device='cuda:0') tensor(0.8711, device='cuda:0')\n",
            "linears.3.weight tensor(-658.0060, device='cuda:0') tensor(-0.0025, device='cuda:0') tensor(0.5272, device='cuda:0')\n",
            "linears.3.bias tensor(-9.1890, device='cuda:0') tensor(-0.0179, device='cuda:0') tensor(0.5625, device='cuda:0')\n",
            "linears.4.weight tensor(-140.2310, device='cuda:0') tensor(-0.0005, device='cuda:0') tensor(0.5261, device='cuda:0')\n",
            "linears.4.bias tensor(6.3025, device='cuda:0') tensor(0.0123, device='cuda:0') tensor(0.3633, device='cuda:0')\n"
          ],
          "name": "stdout"
        }
      ]
    },
    {
      "cell_type": "code",
      "metadata": {
        "id": "6pRovdQdic3G",
        "colab_type": "code",
        "colab": {}
      },
      "source": [
        ""
      ],
      "execution_count": 8,
      "outputs": []
    }
  ]
}